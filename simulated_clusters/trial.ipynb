{
 "cells": [
  {
   "cell_type": "code",
   "execution_count": 1,
   "metadata": {},
   "outputs": [],
   "source": [
    "import os\n",
    "\n",
    "\n",
    "cluster_name = 'Cluster_257'\n",
    "# User-defined primary directory\n",
    "primary_dir = \"/pool/sao/vpatel/Cluster_Archive\"\n",
    "\n",
    "# Construct other directory paths based on the primary directory\n",
    "cluster_dir = os.path.join(primary_dir, cluster_name)\n",
    "sim_cluster_data_dir = os.path.join(primary_dir, \"simulated_clusters/Data\")\n",
    "cluster_statistics_directory = os.path.join(cluster_dir, f\"{cluster_name}.txt\")"
   ]
  },
  {
   "cell_type": "code",
   "execution_count": 16,
   "metadata": {},
   "outputs": [
    {
     "name": "stdout",
     "output_type": "stream",
     "text": [
      "/pool/sao/vpatel/Cluster_Archive/simulated_clusters/Data/Cluster_257_sim\n"
     ]
    }
   ],
   "source": [
    "sim_cluster_dir = os.path.join(primary_dir, \"simulated_clusters\")\n",
    "\n",
    "data_path = os.path.join(sim_cluster_dir,\"Data\",f\"{cluster_name}_sim\")\n",
    "print(data_path)"
   ]
  },
  {
   "cell_type": "code",
   "execution_count": 8,
   "metadata": {},
   "outputs": [
    {
     "name": "stdout",
     "output_type": "stream",
     "text": [
      "/pool/sao/vpatel/Cluster_Archive/simulated_clusters/Data/Cluster_257_sim\n"
     ]
    }
   ],
   "source": [
    "data_path = f\"/pool/sao/vpatel/Cluster_Archive/simulated_clusters/Data/{cluster_name}_sim\"\n",
    "print(data_path)"
   ]
  }
 ],
 "metadata": {
  "kernelspec": {
   "display_name": "base",
   "language": "python",
   "name": "python3"
  },
  "language_info": {
   "codemirror_mode": {
    "name": "ipython",
    "version": 3
   },
   "file_extension": ".py",
   "mimetype": "text/x-python",
   "name": "python",
   "nbconvert_exporter": "python",
   "pygments_lexer": "ipython3",
   "version": "3.11.7"
  }
 },
 "nbformat": 4,
 "nbformat_minor": 2
}
